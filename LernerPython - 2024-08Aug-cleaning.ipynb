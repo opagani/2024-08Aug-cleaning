{
 "cells": [
  {
   "cell_type": "markdown",
   "metadata": {},
   "source": [
    "# Agenda\n",
    "\n",
    "1. What is data cleaning? Why do we need to clean our data?\n",
    "2. `NaN`/`NA`\n",
    "    - What are they? Good and bad\n",
    "    - What types of values are they, and how does this complicate things (or not)?\n",
    "    - `dropna`\n",
    "    - Selective dropping of `NaN`\n",
    "    - `fillna` to replace values with a scalar\n",
    "    - `fillna` with a method call\n",
    "2. Removing bad values\n",
    "3. `interpolate` -- replacing `NaN` values with reasonable fakes\n",
    "4. Finding and removing outliers\n",
    "5. Regularizing string data with strip/lower/replace\n",
    "6. Finding and removing duplicate data"
   ]
  },
  {
   "cell_type": "markdown",
   "metadata": {},
   "source": [
    "# What is data cleaning?\n",
    "\n",
    "When we read in data from somewhere, it will almost always have flaws. That's because:\n",
    "\n",
    "- human error\n",
    "- computers going down\n",
    "- sensors that are wrong (or down)\n",
    "- people refusing to answer questions\n",
    "\n",
    "If you read in a data set, it will almost always have problems *or* someone who prepared the data set did the hard work ahead of you.\n",
    "\n"
   ]
  }
 ],
 "metadata": {
  "kernelspec": {
   "display_name": "Python 3 (ipykernel)",
   "language": "python",
   "name": "python3"
  },
  "language_info": {
   "codemirror_mode": {
    "name": "ipython",
    "version": 3
   },
   "file_extension": ".py",
   "mimetype": "text/x-python",
   "name": "python",
   "nbconvert_exporter": "python",
   "pygments_lexer": "ipython3",
   "version": "3.12.1"
  }
 },
 "nbformat": 4,
 "nbformat_minor": 4
}
